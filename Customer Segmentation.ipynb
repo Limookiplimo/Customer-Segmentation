{
 "cells": [
  {
   "cell_type": "markdown",
   "id": "05019ab3",
   "metadata": {},
   "source": [
    "A K-means clustering model to segment customers based on various features. The main objective of creating the model is to help determine credit limit allocation to customers."
   ]
  },
  {
   "cell_type": "markdown",
   "id": "5341064f",
   "metadata": {},
   "source": [
    "I generated mock data from [mockaroo](https://mockaroo.com/)."
   ]
  },
  {
   "cell_type": "code",
   "execution_count": 1,
   "id": "d14b5548",
   "metadata": {},
   "outputs": [],
   "source": [
    "# Import necessary libraries\n",
    "import pandas as pd\n",
    "import numpy as np\n",
    "from sklearn.decomposition import PCA\n",
    "import matplotlib.pyplot as plt\n",
    "from IPython.display import clear_output"
   ]
  },
  {
   "cell_type": "code",
   "execution_count": 2,
   "id": "fab21d62",
   "metadata": {},
   "outputs": [],
   "source": [
    "# Get data\n",
    "data = pd.read_csv(\"MOCK_DATA.csv\").shift()[1:]"
   ]
  },
  {
   "cell_type": "code",
   "execution_count": 3,
   "id": "7e52c701",
   "metadata": {},
   "outputs": [],
   "source": [
    "data.rename(columns={\"customer since\": \"customer_since\"}, inplace=True)"
   ]
  },
  {
   "cell_type": "code",
   "execution_count": 4,
   "id": "f236ad2e",
   "metadata": {},
   "outputs": [],
   "source": [
    "data.drop(\"id\", axis=1, inplace=True)"
   ]
  },
  {
   "cell_type": "code",
   "execution_count": 5,
   "id": "bc59c22e",
   "metadata": {},
   "outputs": [],
   "source": [
    "data[\"customer_since\"] = data[\"customer_since\"].astype(int)\n",
    "data[\"orders\"] = data[\"orders\"].astype(int)\n",
    "data[\"num_order\"] = data[\"num_order\"].astype(int)"
   ]
  },
  {
   "cell_type": "code",
   "execution_count": 6,
   "id": "a0118fc5",
   "metadata": {},
   "outputs": [
    {
     "data": {
      "text/html": [
       "<div>\n",
       "<style scoped>\n",
       "    .dataframe tbody tr th:only-of-type {\n",
       "        vertical-align: middle;\n",
       "    }\n",
       "\n",
       "    .dataframe tbody tr th {\n",
       "        vertical-align: top;\n",
       "    }\n",
       "\n",
       "    .dataframe thead th {\n",
       "        text-align: right;\n",
       "    }\n",
       "</style>\n",
       "<table border=\"1\" class=\"dataframe\">\n",
       "  <thead>\n",
       "    <tr style=\"text-align: right;\">\n",
       "      <th></th>\n",
       "      <th>shop_name</th>\n",
       "      <th>customer_since</th>\n",
       "      <th>orders</th>\n",
       "      <th>num_order</th>\n",
       "    </tr>\n",
       "  </thead>\n",
       "  <tbody>\n",
       "    <tr>\n",
       "      <th>1</th>\n",
       "      <td>Dablist</td>\n",
       "      <td>2</td>\n",
       "      <td>692261</td>\n",
       "      <td>3</td>\n",
       "    </tr>\n",
       "    <tr>\n",
       "      <th>2</th>\n",
       "      <td>Dynava</td>\n",
       "      <td>3</td>\n",
       "      <td>2102690</td>\n",
       "      <td>20</td>\n",
       "    </tr>\n",
       "    <tr>\n",
       "      <th>3</th>\n",
       "      <td>Fivespan</td>\n",
       "      <td>2</td>\n",
       "      <td>4653475</td>\n",
       "      <td>12</td>\n",
       "    </tr>\n",
       "    <tr>\n",
       "      <th>4</th>\n",
       "      <td>Demivee</td>\n",
       "      <td>1</td>\n",
       "      <td>2950648</td>\n",
       "      <td>17</td>\n",
       "    </tr>\n",
       "    <tr>\n",
       "      <th>5</th>\n",
       "      <td>Tazz</td>\n",
       "      <td>2</td>\n",
       "      <td>2247424</td>\n",
       "      <td>19</td>\n",
       "    </tr>\n",
       "  </tbody>\n",
       "</table>\n",
       "</div>"
      ],
      "text/plain": [
       "  shop_name  customer_since   orders  num_order\n",
       "1   Dablist               2   692261          3\n",
       "2    Dynava               3  2102690         20\n",
       "3  Fivespan               2  4653475         12\n",
       "4   Demivee               1  2950648         17\n",
       "5      Tazz               2  2247424         19"
      ]
     },
     "execution_count": 6,
     "metadata": {},
     "output_type": "execute_result"
    }
   ],
   "source": [
    "data.head()"
   ]
  },
  {
   "cell_type": "markdown",
   "id": "ddeb3c19",
   "metadata": {},
   "source": [
    " "
   ]
  },
  {
   "cell_type": "markdown",
   "id": "ee58109e",
   "metadata": {},
   "source": [
    "The main steps include:\n",
    "- standardize data values\n",
    "- label each data point\n",
    "- create centroids\n",
    "- vizualize\n",
    "- iterate until centroids stop changing\n",
    "- analyse results"
   ]
  },
  {
   "cell_type": "code",
   "execution_count": 7,
   "id": "d2718cc9",
   "metadata": {},
   "outputs": [
    {
     "data": {
      "text/html": [
       "<div>\n",
       "<style scoped>\n",
       "    .dataframe tbody tr th:only-of-type {\n",
       "        vertical-align: middle;\n",
       "    }\n",
       "\n",
       "    .dataframe tbody tr th {\n",
       "        vertical-align: top;\n",
       "    }\n",
       "\n",
       "    .dataframe thead th {\n",
       "        text-align: right;\n",
       "    }\n",
       "</style>\n",
       "<table border=\"1\" class=\"dataframe\">\n",
       "  <thead>\n",
       "    <tr style=\"text-align: right;\">\n",
       "      <th></th>\n",
       "      <th>customer_since</th>\n",
       "      <th>orders</th>\n",
       "      <th>num_order</th>\n",
       "    </tr>\n",
       "  </thead>\n",
       "  <tbody>\n",
       "    <tr>\n",
       "      <th>1</th>\n",
       "      <td>2</td>\n",
       "      <td>692261</td>\n",
       "      <td>3</td>\n",
       "    </tr>\n",
       "    <tr>\n",
       "      <th>2</th>\n",
       "      <td>3</td>\n",
       "      <td>2102690</td>\n",
       "      <td>20</td>\n",
       "    </tr>\n",
       "    <tr>\n",
       "      <th>3</th>\n",
       "      <td>2</td>\n",
       "      <td>4653475</td>\n",
       "      <td>12</td>\n",
       "    </tr>\n",
       "    <tr>\n",
       "      <th>4</th>\n",
       "      <td>1</td>\n",
       "      <td>2950648</td>\n",
       "      <td>17</td>\n",
       "    </tr>\n",
       "    <tr>\n",
       "      <th>5</th>\n",
       "      <td>2</td>\n",
       "      <td>2247424</td>\n",
       "      <td>19</td>\n",
       "    </tr>\n",
       "  </tbody>\n",
       "</table>\n",
       "</div>"
      ],
      "text/plain": [
       "   customer_since   orders  num_order\n",
       "1               2   692261          3\n",
       "2               3  2102690         20\n",
       "3               2  4653475         12\n",
       "4               1  2950648         17\n",
       "5               2  2247424         19"
      ]
     },
     "execution_count": 7,
     "metadata": {},
     "output_type": "execute_result"
    }
   ],
   "source": [
    "# Get relevant data\n",
    "relevant_data = [\"customer_since\", \"orders\", \"num_order\"]\n",
    "df = data[relevant_data].copy()\n",
    "df.head()"
   ]
  },
  {
   "cell_type": "code",
   "execution_count": 8,
   "id": "746fec91",
   "metadata": {},
   "outputs": [],
   "source": [
    "#Standardize values to ensure that a feature does not dominate over the others. I chose a scale of 1 to 10\n",
    "df = (df - df.min()) / (df.max() - df.min()) *9 + 1"
   ]
  },
  {
   "cell_type": "code",
   "execution_count": 9,
   "id": "2819d6d4",
   "metadata": {},
   "outputs": [
    {
     "data": {
      "text/html": [
       "<div>\n",
       "<style scoped>\n",
       "    .dataframe tbody tr th:only-of-type {\n",
       "        vertical-align: middle;\n",
       "    }\n",
       "\n",
       "    .dataframe tbody tr th {\n",
       "        vertical-align: top;\n",
       "    }\n",
       "\n",
       "    .dataframe thead th {\n",
       "        text-align: right;\n",
       "    }\n",
       "</style>\n",
       "<table border=\"1\" class=\"dataframe\">\n",
       "  <thead>\n",
       "    <tr style=\"text-align: right;\">\n",
       "      <th></th>\n",
       "      <th>customer_since</th>\n",
       "      <th>orders</th>\n",
       "      <th>num_order</th>\n",
       "    </tr>\n",
       "  </thead>\n",
       "  <tbody>\n",
       "    <tr>\n",
       "      <th>count</th>\n",
       "      <td>999.000000</td>\n",
       "      <td>999.000000</td>\n",
       "      <td>999.000000</td>\n",
       "    </tr>\n",
       "    <tr>\n",
       "      <th>mean</th>\n",
       "      <td>5.522523</td>\n",
       "      <td>5.427679</td>\n",
       "      <td>5.510669</td>\n",
       "    </tr>\n",
       "    <tr>\n",
       "      <th>std</th>\n",
       "      <td>3.595079</td>\n",
       "      <td>2.622226</td>\n",
       "      <td>2.686067</td>\n",
       "    </tr>\n",
       "    <tr>\n",
       "      <th>min</th>\n",
       "      <td>1.000000</td>\n",
       "      <td>1.000000</td>\n",
       "      <td>1.000000</td>\n",
       "    </tr>\n",
       "    <tr>\n",
       "      <th>25%</th>\n",
       "      <td>1.000000</td>\n",
       "      <td>3.180848</td>\n",
       "      <td>3.368421</td>\n",
       "    </tr>\n",
       "    <tr>\n",
       "      <th>50%</th>\n",
       "      <td>5.500000</td>\n",
       "      <td>5.404970</td>\n",
       "      <td>5.263158</td>\n",
       "    </tr>\n",
       "    <tr>\n",
       "      <th>75%</th>\n",
       "      <td>10.000000</td>\n",
       "      <td>7.616115</td>\n",
       "      <td>7.631579</td>\n",
       "    </tr>\n",
       "    <tr>\n",
       "      <th>max</th>\n",
       "      <td>10.000000</td>\n",
       "      <td>10.000000</td>\n",
       "      <td>10.000000</td>\n",
       "    </tr>\n",
       "  </tbody>\n",
       "</table>\n",
       "</div>"
      ],
      "text/plain": [
       "       customer_since      orders   num_order\n",
       "count      999.000000  999.000000  999.000000\n",
       "mean         5.522523    5.427679    5.510669\n",
       "std          3.595079    2.622226    2.686067\n",
       "min          1.000000    1.000000    1.000000\n",
       "25%          1.000000    3.180848    3.368421\n",
       "50%          5.500000    5.404970    5.263158\n",
       "75%         10.000000    7.616115    7.631579\n",
       "max         10.000000   10.000000   10.000000"
      ]
     },
     "execution_count": 9,
     "metadata": {},
     "output_type": "execute_result"
    }
   ],
   "source": [
    "# The minimum value should now be 1 while the maximum value is 10\n",
    "df.describe()"
   ]
  },
  {
   "cell_type": "code",
   "execution_count": 10,
   "id": "c56cce3f",
   "metadata": {},
   "outputs": [],
   "source": [
    "# Sample random values from each column\n",
    "def get_random_centroids(df, k):\n",
    "    centroids = []\n",
    "    for i in range(k):\n",
    "        centroid = df.apply(lambda x: float(x.sample()))\n",
    "        centroids.append(centroid)\n",
    "    return pd.concat(centroids, axis=1)\n"
   ]
  },
  {
   "cell_type": "code",
   "execution_count": 11,
   "id": "a1b559d5",
   "metadata": {},
   "outputs": [],
   "source": [
    "# Get random centroids for a cluster of 5\n",
    "centroids = get_random_centroids(df, 4)"
   ]
  },
  {
   "cell_type": "code",
   "execution_count": 12,
   "id": "c49d8dbc",
   "metadata": {},
   "outputs": [
    {
     "data": {
      "text/html": [
       "<div>\n",
       "<style scoped>\n",
       "    .dataframe tbody tr th:only-of-type {\n",
       "        vertical-align: middle;\n",
       "    }\n",
       "\n",
       "    .dataframe tbody tr th {\n",
       "        vertical-align: top;\n",
       "    }\n",
       "\n",
       "    .dataframe thead th {\n",
       "        text-align: right;\n",
       "    }\n",
       "</style>\n",
       "<table border=\"1\" class=\"dataframe\">\n",
       "  <thead>\n",
       "    <tr style=\"text-align: right;\">\n",
       "      <th></th>\n",
       "      <th>0</th>\n",
       "      <th>1</th>\n",
       "      <th>2</th>\n",
       "      <th>3</th>\n",
       "    </tr>\n",
       "  </thead>\n",
       "  <tbody>\n",
       "    <tr>\n",
       "      <th>customer_since</th>\n",
       "      <td>1.000000</td>\n",
       "      <td>5.500000</td>\n",
       "      <td>5.500000</td>\n",
       "      <td>5.500000</td>\n",
       "    </tr>\n",
       "    <tr>\n",
       "      <th>orders</th>\n",
       "      <td>8.848751</td>\n",
       "      <td>6.442020</td>\n",
       "      <td>2.231436</td>\n",
       "      <td>4.511388</td>\n",
       "    </tr>\n",
       "    <tr>\n",
       "      <th>num_order</th>\n",
       "      <td>4.315789</td>\n",
       "      <td>8.578947</td>\n",
       "      <td>4.315789</td>\n",
       "      <td>9.526316</td>\n",
       "    </tr>\n",
       "  </tbody>\n",
       "</table>\n",
       "</div>"
      ],
      "text/plain": [
       "                       0         1         2         3\n",
       "customer_since  1.000000  5.500000  5.500000  5.500000\n",
       "orders          8.848751  6.442020  2.231436  4.511388\n",
       "num_order       4.315789  8.578947  4.315789  9.526316"
      ]
     },
     "execution_count": 12,
     "metadata": {},
     "output_type": "execute_result"
    }
   ],
   "source": [
    "centroids"
   ]
  },
  {
   "cell_type": "code",
   "execution_count": 13,
   "id": "b03dbdfb",
   "metadata": {},
   "outputs": [],
   "source": [
    "# Get euclidean distance and cluster assignment for each feature\n",
    "def get_data_labels(df, centroids):\n",
    "    distances = centroids.apply(lambda x: np.sqrt(((df - x) ** 2).sum(axis=1)))\n",
    "    return distances.idxmin(axis=1)"
   ]
  },
  {
   "cell_type": "code",
   "execution_count": 14,
   "id": "1e254067",
   "metadata": {},
   "outputs": [],
   "source": [
    "labels = get_data_labels(df, centroids)"
   ]
  },
  {
   "cell_type": "code",
   "execution_count": 15,
   "id": "39c7f9a6",
   "metadata": {},
   "outputs": [
    {
     "data": {
      "text/plain": [
       "1      2\n",
       "2      3\n",
       "3      1\n",
       "4      1\n",
       "5      3\n",
       "      ..\n",
       "995    3\n",
       "996    0\n",
       "997    3\n",
       "998    1\n",
       "999    3\n",
       "Length: 999, dtype: int64"
      ]
     },
     "execution_count": 15,
     "metadata": {},
     "output_type": "execute_result"
    }
   ],
   "source": [
    "labels"
   ]
  },
  {
   "cell_type": "code",
   "execution_count": 16,
   "id": "b8a3b1ab",
   "metadata": {},
   "outputs": [
    {
     "data": {
      "text/plain": [
       "2    352\n",
       "1    261\n",
       "0    225\n",
       "3    161\n",
       "dtype: int64"
      ]
     },
     "execution_count": 16,
     "metadata": {},
     "output_type": "execute_result"
    }
   ],
   "source": [
    "# How many feature in each label\n",
    "labels.value_counts()"
   ]
  },
  {
   "cell_type": "code",
   "execution_count": 20,
   "id": "0e227430",
   "metadata": {},
   "outputs": [],
   "source": [
    "# Group by labesl and calculate new centroids\n",
    "def get_new_centroids(df, centroids, k):\n",
    "    centroids = df.groupby(labels).apply(lambda x: np.exp(np.log(x).mean())).T\n",
    "    return centroids"
   ]
  },
  {
   "cell_type": "code",
   "execution_count": 23,
   "id": "2d497a24",
   "metadata": {},
   "outputs": [],
   "source": [
    "# Transform to 2d\n",
    "def plot_clusters(df, labels, centroids, iteration):\n",
    "    pca = PCA(n_components=2)\n",
    "    data_2d = pca.fit_transform(df)\n",
    "    centroids_2d = pca.transform(centroids.T)\n",
    "    clear_output(wait=True)\n",
    "    plt.title(f\"Iteration{iteration}\")\n",
    "    plt.scatter(x=data_2d[:,0], y=data_2d[:,1], c=labels)\n",
    "    plt.scatter(x=centroids_2d[:,0], y=centroids_2d[:,1])\n",
    "    plt.show()"
   ]
  },
  {
   "cell_type": "code",
   "execution_count": null,
   "id": "d391e620",
   "metadata": {},
   "outputs": [],
   "source": []
  },
  {
   "cell_type": "code",
   "execution_count": null,
   "id": "7a219ce7",
   "metadata": {},
   "outputs": [],
   "source": []
  },
  {
   "cell_type": "code",
   "execution_count": null,
   "id": "f69eb8ee",
   "metadata": {},
   "outputs": [],
   "source": []
  },
  {
   "cell_type": "code",
   "execution_count": null,
   "id": "fe5c5683",
   "metadata": {},
   "outputs": [],
   "source": []
  },
  {
   "cell_type": "code",
   "execution_count": null,
   "id": "077a239a",
   "metadata": {},
   "outputs": [],
   "source": []
  }
 ],
 "metadata": {
  "kernelspec": {
   "display_name": "Python 3 (ipykernel)",
   "language": "python",
   "name": "python3"
  },
  "language_info": {
   "codemirror_mode": {
    "name": "ipython",
    "version": 3
   },
   "file_extension": ".py",
   "mimetype": "text/x-python",
   "name": "python",
   "nbconvert_exporter": "python",
   "pygments_lexer": "ipython3",
   "version": "3.11.3"
  }
 },
 "nbformat": 4,
 "nbformat_minor": 5
}
